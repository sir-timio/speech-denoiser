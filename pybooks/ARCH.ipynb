{
 "cells": [
  {
   "cell_type": "code",
   "execution_count": 15,
   "id": "0771362c",
   "metadata": {},
   "outputs": [],
   "source": [
    "import torch\n",
    "import torchaudio\n",
    "from torch import nn\n",
    "from torch.nn import functional as F"
   ]
  },
  {
   "cell_type": "code",
   "execution_count": 1,
   "id": "8716b9b7",
   "metadata": {},
   "outputs": [],
   "source": [
    "import sys\n",
    "sys.path.append('../wave_wizard/')"
   ]
  },
  {
   "cell_type": "code",
   "execution_count": 2,
   "id": "f26c6a26",
   "metadata": {},
   "outputs": [],
   "source": [
    "from src.dataset import get_loader"
   ]
  },
  {
   "cell_type": "code",
   "execution_count": 6,
   "id": "497e50b6",
   "metadata": {},
   "outputs": [],
   "source": [
    "SR = 22050\n",
    "SECS = 11\n",
    "length=SR*SECS\n",
    "sample_rate=22050"
   ]
  },
  {
   "cell_type": "code",
   "execution_count": 7,
   "id": "3aac56ea",
   "metadata": {},
   "outputs": [
    {
     "data": {
      "text/plain": [
       "{'ength': 242550}"
      ]
     },
     "execution_count": 7,
     "metadata": {},
     "output_type": "execute_result"
    }
   ],
   "source": [
    "dict(ength=SR*SECS)"
   ]
  },
  {
   "cell_type": "code",
   "execution_count": 13,
   "id": "b2abc3cd",
   "metadata": {},
   "outputs": [],
   "source": [
    "config = dict({\n",
    "    'dataset': {\n",
    "        'json_dir': '../dataset/',\n",
    "        'length': SR*SECS,\n",
    "        'sample_rate': SR,\n",
    "    },\n",
    "    'dataloader': {\n",
    "        'batch_size': 32,\n",
    "    }\n",
    "})\n",
    "\n",
    "loader = get_loader(config)"
   ]
  },
  {
   "cell_type": "code",
   "execution_count": 14,
   "id": "04af6c39",
   "metadata": {},
   "outputs": [],
   "source": [
    "for noisy, clean in loader:\n",
    "    break"
   ]
  },
  {
   "cell_type": "code",
   "execution_count": 101,
   "id": "fcd42552",
   "metadata": {},
   "outputs": [],
   "source": [
    "def get_encoder_block(in_channels, out_channels, kernel_size=3, **kwargs):\n",
    "    block = nn.Sequential(\n",
    "        nn.Conv1d(in_channels=in_channels, out_channels=out_channels, kernel_size=kernel_size, **kwargs),\n",
    "        nn.ReLU()\n",
    "    )\n",
    "    return block"
   ]
  },
  {
   "cell_type": "code",
   "execution_count": 102,
   "id": "6c6ff3d1",
   "metadata": {},
   "outputs": [],
   "source": [
    "def get_decoder_block(in_channels, out_channels, kernel_size=3, **kwargs):\n",
    "    block = nn.Sequential(\n",
    "        nn.ConvTranspose1d(in_channels=in_channels, out_channels=out_channels, kernel_size=kernel_size, **kwargs),\n",
    "        nn.ReLU()\n",
    "    )\n",
    "    return block"
   ]
  },
  {
   "cell_type": "code",
   "execution_count": 103,
   "id": "8c0229af",
   "metadata": {},
   "outputs": [
    {
     "ename": "SyntaxError",
     "evalue": "invalid syntax (234475207.py, line 2)",
     "output_type": "error",
     "traceback": [
      "\u001b[0;36m  Input \u001b[0;32mIn [103]\u001b[0;36m\u001b[0m\n\u001b[0;31m    def __init__(self, depth=3, scale=2, hidden=32, kernel_size=):\u001b[0m\n\u001b[0m                                                                ^\u001b[0m\n\u001b[0;31mSyntaxError\u001b[0m\u001b[0;31m:\u001b[0m invalid syntax\n"
     ]
    }
   ],
   "source": [
    "class GateWave(nn.Module):\n",
    "    def __init__(self, depth=3, scale=2, hidden=32, kernel_size=):\n",
    "        super(GateWave, self).__init__()\n",
    "        in_channels = 1\n",
    "        out_channels = 1\n",
    "        encoders = []\n",
    "        decoders = []\n",
    "        \n",
    "        in_ch = in_channels\n",
    "        for i in range(depth):\n",
    "            encoder = get_encoder_block(in_ch, hidden, kernel_size=3)\n",
    "            encoders.append(encoder)\n",
    "            \n",
    "            decoder = get_decoder_block(hidden,)\n",
    "            \n",
    "            \n",
    "            \n",
    "        self.encoder = get_encoder_block(1, 10, 3)\n",
    "        self.decoder = get_decoder_block(10, 1, 3)\n",
    "    \n",
    "    def forward(self, x):\n",
    "        latent = self.encoder(x)\n",
    "        output = self.decoder(latent)\n",
    "        return output"
   ]
  },
  {
   "cell_type": "code",
   "execution_count": 97,
   "id": "d2e42d29",
   "metadata": {},
   "outputs": [],
   "source": [
    "x = noisy"
   ]
  },
  {
   "cell_type": "code",
   "execution_count": 104,
   "id": "b569f9c3",
   "metadata": {},
   "outputs": [],
   "source": [
    "encoder = get_encoder_block(1, 10, 3)\n",
    "decoder = get_decoder_block(10, 1, 3)"
   ]
  },
  {
   "cell_type": "code",
   "execution_count": 107,
   "id": "5600a241",
   "metadata": {},
   "outputs": [
    {
     "name": "stderr",
     "output_type": "stream",
     "text": [
      "/Users/timur/opt/anaconda3/envs/dev/lib/python3.9/site-packages/torch/nn/init.py:405: UserWarning: Initializing zero-element tensors is a no-op\n",
      "  warnings.warn(\"Initializing zero-element tensors is a no-op\")\n"
     ]
    }
   ],
   "source": [
    "a = []\n",
    "for i in range(4):\n",
    "    ch_in = i\n",
    "    ch_out = i+1\n",
    "    a.append(get_encoder_block(ch_in, ch_out))"
   ]
  },
  {
   "cell_type": "code",
   "execution_count": 87,
   "id": "a5839467",
   "metadata": {},
   "outputs": [],
   "source": [
    "lstm = nn.LSTM(input_size=10, hidden_size=5, batch_first=True)\n",
    "gru = nn.GRU(input_size=10, hidden_size=10)"
   ]
  },
  {
   "cell_type": "code",
   "execution_count": 88,
   "id": "605a25c7",
   "metadata": {},
   "outputs": [],
   "source": [
    "x = encoder(x)"
   ]
  },
  {
   "cell_type": "code",
   "execution_count": 89,
   "id": "c1af2528",
   "metadata": {},
   "outputs": [],
   "source": [
    "x = x.permute(2, 0, 1)"
   ]
  },
  {
   "cell_type": "code",
   "execution_count": 90,
   "id": "2448d9df",
   "metadata": {},
   "outputs": [
    {
     "data": {
      "text/plain": [
       "torch.Size([242548, 32, 10])"
      ]
     },
     "execution_count": 90,
     "metadata": {},
     "output_type": "execute_result"
    }
   ],
   "source": [
    "x.shape"
   ]
  },
  {
   "cell_type": "code",
   "execution_count": 91,
   "id": "8190b280",
   "metadata": {},
   "outputs": [],
   "source": [
    "# out = lstm(x)\n",
    "out = gru(x)"
   ]
  },
  {
   "cell_type": "code",
   "execution_count": 92,
   "id": "50cec626",
   "metadata": {},
   "outputs": [
    {
     "data": {
      "text/plain": [
       "torch.Size([242548, 32, 10])"
      ]
     },
     "execution_count": 92,
     "metadata": {},
     "output_type": "execute_result"
    }
   ],
   "source": [
    "out[0].shape"
   ]
  },
  {
   "cell_type": "code",
   "execution_count": 16,
   "id": "21dd7de9",
   "metadata": {},
   "outputs": [],
   "source": [
    "## Denoising Convolutional Auto-Encoder\n",
    "import torch.nn as nn\n",
    "from torch.nn import functional as F\n",
    "\n",
    "\n",
    "class SimpleDCAE(nn.Module):\n",
    "    def __init__(self, s = 1, d = 1):\n",
    "         super(SimpleDCAE, self).__init__()\n",
    "         ## encoder: 1 -> 128 -> 64 -> 32\n",
    "         self.encoder = nn.ModuleDict({\n",
    "             'enc_block1': self.create_encoder_block(1, 128, stride = s, dilation =d, padding = 0 ),\n",
    "             'enc_block2': self.create_encoder_block(128, 64, stride = s, dilation =d, padding = 0),\n",
    "              'enc_block3': self.create_encoder_block(64, 32, stride = s, dilation =d, padding = 0) \n",
    "            })\n",
    "         \n",
    "         ## decoder: 32 -> 64 -> 128 -> 1\n",
    "         self.decoder =  nn.ModuleDict(\n",
    "             {\n",
    "              'dec_block1': self.create_decoder_block(32, 64, stride = s, dilation = d, padding = 0),\n",
    "              'dec_block2' : self.create_decoder_block(64, 128, stride = s, dilation = d, padding = 0),\n",
    "              'dec_block3': nn.ConvTranspose2d(in_channels=128, out_channels=1,\n",
    "                                               dilation = d,\n",
    "                                               kernel_size=3,stride = s, padding = 0)\n",
    "             }\n",
    "              )\n",
    "    def create_encoder_block(self, in_channels, out_channels, **kwargs):\n",
    "        block = nn.ModuleList([nn.Conv2d(in_channels=in_channels, out_channels=out_channels, kernel_size=3, **kwargs),\n",
    "                nn.BatchNorm2d(out_channels),\n",
    "                nn.LeakyReLU()\n",
    "                ])\n",
    "        return nn.Sequential(*block)\n",
    "    \n",
    "    def create_decoder_block(self, in_channels, out_channels, **kwargs):\n",
    "        block = nn.ModuleList([\n",
    "            nn.ConvTranspose2d(in_channels=in_channels,\n",
    "                               out_channels=out_channels,\n",
    "                               kernel_size=3, **kwargs),\n",
    "                nn.LeakyReLU()\n",
    "                ])\n",
    "        return nn.Sequential(*block)\n",
    "    \n",
    "    def forward(self, x):\n",
    "        ## encoder layer\n",
    "        for e in self.encoder:\n",
    "            x = self.encoder[e](x)\n",
    "        \n",
    "        ## decoder layer\n",
    "        for d in self.decoder:\n",
    "            x = self.decoder[d](x)\n",
    "            \n",
    "        return "
   ]
  },
  {
   "cell_type": "code",
   "execution_count": null,
   "id": "b3720b6e",
   "metadata": {},
   "outputs": [],
   "source": []
  }
 ],
 "metadata": {
  "kernelspec": {
   "display_name": "dev",
   "language": "python",
   "name": "dev"
  },
  "language_info": {
   "codemirror_mode": {
    "name": "ipython",
    "version": 3
   },
   "file_extension": ".py",
   "mimetype": "text/x-python",
   "name": "python",
   "nbconvert_exporter": "python",
   "pygments_lexer": "ipython3",
   "version": "3.9.16"
  }
 },
 "nbformat": 4,
 "nbformat_minor": 5
}
